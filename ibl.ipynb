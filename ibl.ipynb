{
 "cells": [
  {
   "cell_type": "markdown",
   "metadata": {},
   "source": [
    "This file contains code exploring the IBL dataset (code from IBL github)"
   ]
  },
  {
   "cell_type": "code",
   "execution_count": 3,
   "metadata": {},
   "outputs": [
    {
     "name": "stdout",
     "output_type": "stream",
     "text": [
      "Connected to https://openalyx.internationalbrainlab.org as user \"intbrainlab\"\n"
     ]
    }
   ],
   "source": [
    "from one.api import ONE\n",
    "\n",
    "ONE.setup(base_url = 'https://openalyx.internationalbrainlab.org', silent = True)\n",
    "one = ONE(password = 'international')"
   ]
  },
  {
   "cell_type": "code",
   "execution_count": 6,
   "metadata": {},
   "outputs": [
    {
     "name": "stdout",
     "output_type": "stream",
     "text": [
      "Number of sessions (total):  8161\n"
     ]
    }
   ],
   "source": [
    "sessions = one.search()\n",
    "print(\"Number of sessions (total): \", len(sessions))"
   ]
  },
  {
   "cell_type": "code",
   "execution_count": 10,
   "metadata": {},
   "outputs": [
    {
     "data": {
      "text/plain": [
       "'c3f58136-2198-4a39-bde0-e2a8cf112a56'"
      ]
     },
     "execution_count": 10,
     "metadata": {},
     "output_type": "execute_result"
    }
   ],
   "source": [
    "#session id\n",
    "#used to download data for a given session\n",
    "sessions[0]"
   ]
  },
  {
   "cell_type": "markdown",
   "metadata": {},
   "source": [
    "Listing Datasets"
   ]
  },
  {
   "cell_type": "code",
   "execution_count": 28,
   "metadata": {},
   "outputs": [
    {
     "data": {
      "text/plain": [
       "761"
      ]
     },
     "execution_count": 28,
     "metadata": {},
     "output_type": "execute_result"
    }
   ],
   "source": [
    "datasets = one.list_datasets()\n",
    "len(datasets)"
   ]
  },
  {
   "cell_type": "code",
   "execution_count": 31,
   "metadata": {},
   "outputs": [
    {
     "name": "stdout",
     "output_type": "stream",
     "text": [
      "the repetition number of the trial, i.e. how many trials have been repeated on this side (counting from 1)\n"
     ]
    },
    {
     "data": {
      "text/plain": [
       "{'id': '4cd7dcc9-62c1-4471-afa7-60544fc7e1ff',\n",
       " 'name': 'trials.repNum',\n",
       " 'created_by': None,\n",
       " 'description': 'the repetition number of the trial, i.e. how many trials have been repeated on this side (counting from 1)',\n",
       " 'filename_pattern': '*trials.repNum.*'}"
      ]
     },
     "execution_count": 31,
     "metadata": {},
     "output_type": "execute_result"
    }
   ],
   "source": [
    "one.describe_dataset(datasets[1])"
   ]
  },
  {
   "cell_type": "markdown",
   "metadata": {},
   "source": [
    "Collections"
   ]
  },
  {
   "cell_type": "code",
   "execution_count": 32,
   "metadata": {},
   "outputs": [
    {
     "data": {
      "text/plain": [
       "['alf',\n",
       " 'alf/probe00/pykilosort',\n",
       " 'raw_ephys_data/probe00',\n",
       " 'raw_ephys_data',\n",
       " 'alf/probe00',\n",
       " 'raw_video_data',\n",
       " 'raw_behavior_data',\n",
       " 'alf/photometry',\n",
       " 'raw_passive_data',\n",
       " 'alf/probe01/pykilosort',\n",
       " 'raw_ephys_data/probe01',\n",
       " 'alf/probe01',\n",
       " 'alf/widefield',\n",
       " 'raw_ephys_data/probe00a',\n",
       " 'alf/probe00a/pykilosort',\n",
       " 'alf/probe00a',\n",
       " 'raw_ephys_data/probe00/_spikeglx_ephysData_probe00_g0',\n",
       " 'alf/probe00b/pykilosort',\n",
       " 'raw_ephys_data/probe00b',\n",
       " 'alf/probe00b']"
      ]
     },
     "execution_count": 32,
     "metadata": {},
     "output_type": "execute_result"
    }
   ],
   "source": [
    "one.list_collections()"
   ]
  },
  {
   "cell_type": "markdown",
   "metadata": {},
   "source": [
    "Searchable Terms"
   ]
  },
  {
   "cell_type": "code",
   "execution_count": 19,
   "metadata": {},
   "outputs": [
    {
     "data": {
      "text/plain": [
       "('dataset',\n",
       " 'date_range',\n",
       " 'laboratory',\n",
       " 'number',\n",
       " 'projects',\n",
       " 'subject',\n",
       " 'task_protocol',\n",
       " 'dataset_qc_lte')"
      ]
     },
     "execution_count": 19,
     "metadata": {},
     "output_type": "execute_result"
    }
   ],
   "source": [
    "one.search_terms()"
   ]
  },
  {
   "cell_type": "markdown",
   "metadata": {},
   "source": [
    "SPECIFIC Brain Region searching (search_insertions())"
   ]
  },
  {
   "cell_type": "code",
   "execution_count": 11,
   "metadata": {},
   "outputs": [],
   "source": [
    "brain_region_code = 'RH' #Rhomboid Nucleus (RH) region of thalamus\n",
    "\n",
    "insertions_rh = one.search_insertions(atlas_acronym = brain_region_code, \n",
    "                                      datasets = 'spikes.times.npy',\n",
    "                                      project = 'brainwide')"
   ]
  },
  {
   "cell_type": "code",
   "execution_count": 12,
   "metadata": {},
   "outputs": [
    {
     "data": {
      "text/plain": [
       "<one.util.LazyId at 0x1eb46048bc0>"
      ]
     },
     "execution_count": 12,
     "metadata": {},
     "output_type": "execute_result"
    }
   ],
   "source": [
    "insertions_rh"
   ]
  },
  {
   "cell_type": "code",
   "execution_count": 13,
   "metadata": {},
   "outputs": [],
   "source": [
    "# can search for certain datasets <-- see IBL dataset link in 'useful_links.txt'"
   ]
  },
  {
   "cell_type": "code",
   "execution_count": 18,
   "metadata": {},
   "outputs": [
    {
     "name": "stdout",
     "output_type": "stream",
     "text": [
      "36\n"
     ]
    },
    {
     "data": {
      "text/plain": [
       "'ebce500b-c530-47de-8cb1-963c552703ea'"
      ]
     },
     "execution_count": 18,
     "metadata": {},
     "output_type": "execute_result"
    }
   ],
   "source": [
    "sessions_with_spikes = one.search(project = 'brainwide', dataset = 'spikes.times')\n",
    "print(len(sessions_with_spikes[0]))\n",
    "sessions_with_spikes[0]"
   ]
  },
  {
   "cell_type": "code",
   "execution_count": 21,
   "metadata": {},
   "outputs": [],
   "source": [
    "a, b = one.search(project = 'brainwide', dataset = 'spikes.times', details = True)"
   ]
  },
  {
   "cell_type": "code",
   "execution_count": 24,
   "metadata": {},
   "outputs": [
    {
     "data": {
      "text/plain": [
       "('ebce500b-c530-47de-8cb1-963c552703ea',\n",
       " {'lab': 'churchlandlab_ucla',\n",
       "  'subject': 'MFD_09',\n",
       "  'date': datetime.date(2023, 10, 19),\n",
       "  'number': 1,\n",
       "  'task_protocol': '_iblrig_tasks_ephysChoiceWorld',\n",
       "  'projects': 'ibl_neuropixel_brainwide_01'})"
      ]
     },
     "execution_count": 24,
     "metadata": {},
     "output_type": "execute_result"
    }
   ],
   "source": [
    "a[0], b[0]"
   ]
  },
  {
   "cell_type": "code",
   "execution_count": null,
   "metadata": {},
   "outputs": [],
   "source": []
  }
 ],
 "metadata": {
  "kernelspec": {
   "display_name": "Python 3",
   "language": "python",
   "name": "python3"
  },
  "language_info": {
   "codemirror_mode": {
    "name": "ipython",
    "version": 3
   },
   "file_extension": ".py",
   "mimetype": "text/x-python",
   "name": "python",
   "nbconvert_exporter": "python",
   "pygments_lexer": "ipython3",
   "version": "3.12.0"
  }
 },
 "nbformat": 4,
 "nbformat_minor": 2
}
